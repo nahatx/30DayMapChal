{
  "nbformat": 4,
  "nbformat_minor": 0,
  "metadata": {
    "colab": {
      "provenance": [],
      "authorship_tag": "ABX9TyPLjMRMjPzGNp/P8/gXqBJ1",
      "include_colab_link": true
    },
    "kernelspec": {
      "name": "python3",
      "display_name": "Python 3"
    },
    "language_info": {
      "name": "python"
    }
  },
  "cells": [
    {
      "cell_type": "markdown",
      "metadata": {
        "id": "view-in-github",
        "colab_type": "text"
      },
      "source": [
        "<a href=\"https://colab.research.google.com/github/nahatx/30DayMapChal/blob/main/mapChallengeDay1.ipynb\" target=\"_parent\"><img src=\"https://colab.research.google.com/assets/colab-badge.svg\" alt=\"Open In Colab\"/></a>"
      ]
    },
    {
      "cell_type": "code",
      "source": [
        "import requests\n",
        "import pandas as pd\n",
        "from geopy.geocoders import Nominatim\n",
        "import geopandas\n",
        "from shapely.geometry import Point, Polygon\n",
        "import matplotlib.pyplot\n",
        "import time\n",
        "# import warnings"
      ],
      "metadata": {
        "id": "m2KHtflr_ECi"
      },
      "execution_count": null,
      "outputs": []
    },
    {
      "cell_type": "markdown",
      "source": [
        "## Fetch and prepare data"
      ],
      "metadata": {
        "id": "B3QD6yKa0pQc"
      }
    },
    {
      "cell_type": "code",
      "source": [
        "# Read an html table into a list of dataframes and select the dataframe containing Prime Ministers and their birth places\n",
        "raw_minister_dataframe = pd.read_html(\"https://en.wikipedia.org/wiki/List_of_prime_ministers_of_the_United_Kingdom_by_birthplace\")[1]\n",
        "\n",
        "# filter the dataframe to the desired length of 31, which gives us the ministers since 1900 (27 total)\n",
        "raw_minister_dataframe = raw_minister_dataframe[31:].copy().reset_index(drop=True)\n",
        "\n",
        "\n",
        "# Get political party data\n",
        "raw_party_dataframe = pd.read_html(\"https://simple.wikipedia.org/wiki/List_of_prime_ministers_of_the_United_Kingdom\")[0]"
      ],
      "metadata": {
        "id": "bwcZHDf4HPVg"
      },
      "execution_count": null,
      "outputs": []
    },
    {
      "cell_type": "markdown",
      "source": [
        "## Clean the data"
      ],
      "metadata": {
        "id": "xKb-bS_c1QWG"
      }
    },
    {
      "cell_type": "code",
      "source": [
        "# Fix names to show first names, not initials\n",
        "replace_names = {\"H. H. Asquith\": \"Herbert Asquith\"}\n",
        "for key, value in replace_names.items():\n",
        "    raw_minister_dataframe[\"Name\"] = raw_minister_dataframe[\"Name\"].str.replace(key, value)\n",
        "\n",
        "# Create a 'Location' collumn that merges the 'Birthplace' and 'Country' columns\n",
        "raw_minister_dataframe[\"Location\"] = raw_minister_dataframe[\"Birthplace\"] + \", \" + raw_minister_dataframe[\"Country\"]\n",
        "\n",
        "\n",
        "# Fix names to match from both raw_dataframe's\n",
        "raw_party_dataframe[\"Name\"] = raw_party_dataframe[\"Name\"].str.replace(\"Marquess of Salisbury\", \"Robert Gascoyne-Cecil\").str.replace(\n",
        "    \"Andrew Bonar Law\", \"Bonar Law\")"
      ],
      "metadata": {
        "id": "BPuuxLTLRBDb"
      },
      "execution_count": null,
      "outputs": []
    },
    {
      "cell_type": "markdown",
      "source": [
        "## Geocode the location"
      ],
      "metadata": {
        "id": "sVHFh1EP1cvS"
      }
    },
    {
      "cell_type": "code",
      "source": [
        "# Initialize Nominatim geocoder object, do not use default user agent for nominatim.openstreetmap.org API\n",
        "nom_app = Nominatim(user_agent=\"map_project1\")\n",
        "\n",
        "latitude = [None] * len(raw_minister_dataframe)\n",
        "longitude = [None] * len(raw_minister_dataframe)"
      ],
      "metadata": {
        "id": "DwwNa1sg5Sh3"
      },
      "execution_count": null,
      "outputs": []
    },
    {
      "cell_type": "code",
      "source": [
        "# Some OpenStreetMap queries will not resolve,\n",
        "# cache and manually fix each one using www.openstreetmap.org,\n",
        "# then rerun this block to update them before moving on\n",
        "needs_location_cleaning = []\n",
        "\n",
        "\n",
        "# Manually correct and standardize place names for accurate geocoding here\n",
        "# A fuzzer + a location list can probably be used to automate this on large datasets\n",
        "replace_birth = {\"Chorlton-on-Medlock, Lancashire,\": \"Chorlton-on-Medlock, Manchester\",\n",
        "                \"Lossiemouth, Morayshire\": \"Lossiemouth, Moray\",\n",
        "                \"Putney, Surrey\" : \"Putney, London\",\n",
        "                \"Huddersfield, West Riding of Yorkshire\": \"Huddersfield, West Yorkshire\",\n",
        "                \"Morley, West Riding of Yorkshire\": \"Morley, West Yorkshire\",\n",
        "                \"St Helier, Surrey\": \"St Helier, London\",\n",
        "                \"New Brunswick colony, modern day Canada\" : \"Canada\"}\n",
        "for key, value in replace_birth.items():\n",
        "  raw_minister_dataframe[\"Location\"] = raw_minister_dataframe[\"Location\"].str.replace(key, value)\n",
        "\n",
        "\n",
        "# Update geocoding for locations that have not been geocoded yet\n",
        "for row in range(len(raw_minister_dataframe)):\n",
        "  if not (latitude[row] and longitude[row]):\n",
        "    location_data = nom_app.geocode(raw_minister_dataframe.loc[row][\"Location\"])\n",
        "    if location_data:\n",
        "      latitude[row] = location_data.raw[\"lat\"]\n",
        "      longitude[row] = location_data.raw[\"lon\"]\n",
        "    else:\n",
        "      needs_location_cleaning.append(raw_minister_dataframe.loc[row][\"Location\"])\n",
        "    # Must sleep to remain with rate limit (https://operations.osmfoundation.org/policies/nominatim/) AND get list of invalid searches\n",
        "    time.sleep(1)\n",
        "\n",
        "\n",
        "# Warn if there are geocoding failures, and output locations that need to be fixed manually\n",
        "if len(needs_location_cleaning) > 0:\n",
        "  print(f\"Need to fix {len(needs_location_cleaning)} locations.\", \"Fix them and RERUN BLOCK!\",\n",
        "        \"\\nLocations:\", *needs_location_cleaning, sep=\"\\n\")"
      ],
      "metadata": {
        "id": "trrBjKqhm6jR"
      },
      "execution_count": null,
      "outputs": []
    },
    {
      "cell_type": "markdown",
      "source": [
        "## Merge datasets and save to a csv file"
      ],
      "metadata": {
        "id": "DktAILBK1dF4"
      }
    },
    {
      "cell_type": "code",
      "source": [
        "minister_dataframe = pd.DataFrame()\n",
        "minister_dataframe[\"Name\"] = raw_minister_dataframe[\"Name\"]\n",
        "minister_dataframe[\"Latitude\"] = latitude\n",
        "minister_dataframe[\"Longitude\"] = longitude\n",
        "# minister_dataframe = minister_dataframe.join(raw_party_dataframe, on=\"Name\")\n",
        "print(minister_dataframe, raw_party_dataframe.drop(labels=\"Time in office\"))"
      ],
      "metadata": {
        "colab": {
          "base_uri": "https://localhost:8080/",
          "height": 329
        },
        "id": "pJ7iE73tyRbG",
        "outputId": "7d1e4d16-db4e-440b-8b0a-89ed23e1774d"
      },
      "execution_count": null,
      "outputs": [
        {
          "output_type": "error",
          "ename": "KeyError",
          "evalue": "\"['Time in office'] not found in axis\"",
          "traceback": [
            "\u001b[0;31m---------------------------------------------------------------------------\u001b[0m",
            "\u001b[0;31mKeyError\u001b[0m                                  Traceback (most recent call last)",
            "\u001b[0;32m<ipython-input-127-ca5f966b16f7>\u001b[0m in \u001b[0;36m<cell line: 6>\u001b[0;34m()\u001b[0m\n\u001b[1;32m      4\u001b[0m \u001b[0mminister_dataframe\u001b[0m\u001b[0;34m[\u001b[0m\u001b[0;34m\"Longitude\"\u001b[0m\u001b[0;34m]\u001b[0m \u001b[0;34m=\u001b[0m \u001b[0mlongitude\u001b[0m\u001b[0;34m\u001b[0m\u001b[0;34m\u001b[0m\u001b[0m\n\u001b[1;32m      5\u001b[0m \u001b[0;31m# minister_dataframe = minister_dataframe.join(raw_party_dataframe, on=\"Name\")\u001b[0m\u001b[0;34m\u001b[0m\u001b[0;34m\u001b[0m\u001b[0m\n\u001b[0;32m----> 6\u001b[0;31m \u001b[0mprint\u001b[0m\u001b[0;34m(\u001b[0m\u001b[0mminister_dataframe\u001b[0m\u001b[0;34m,\u001b[0m \u001b[0mraw_party_dataframe\u001b[0m\u001b[0;34m.\u001b[0m\u001b[0mdrop\u001b[0m\u001b[0;34m(\u001b[0m\u001b[0mlabels\u001b[0m\u001b[0;34m=\u001b[0m\u001b[0;34m\"Time in office\"\u001b[0m\u001b[0;34m)\u001b[0m\u001b[0;34m)\u001b[0m\u001b[0;34m\u001b[0m\u001b[0;34m\u001b[0m\u001b[0m\n\u001b[0m",
            "\u001b[0;32m/usr/local/lib/python3.10/dist-packages/pandas/core/frame.py\u001b[0m in \u001b[0;36mdrop\u001b[0;34m(self, labels, axis, index, columns, level, inplace, errors)\u001b[0m\n\u001b[1;32m   5342\u001b[0m                 \u001b[0mweight\u001b[0m  \u001b[0;36m1.0\u001b[0m     \u001b[0;36m0.8\u001b[0m\u001b[0;34m\u001b[0m\u001b[0;34m\u001b[0m\u001b[0m\n\u001b[1;32m   5343\u001b[0m         \"\"\"\n\u001b[0;32m-> 5344\u001b[0;31m         return super().drop(\n\u001b[0m\u001b[1;32m   5345\u001b[0m             \u001b[0mlabels\u001b[0m\u001b[0;34m=\u001b[0m\u001b[0mlabels\u001b[0m\u001b[0;34m,\u001b[0m\u001b[0;34m\u001b[0m\u001b[0;34m\u001b[0m\u001b[0m\n\u001b[1;32m   5346\u001b[0m             \u001b[0maxis\u001b[0m\u001b[0;34m=\u001b[0m\u001b[0maxis\u001b[0m\u001b[0;34m,\u001b[0m\u001b[0;34m\u001b[0m\u001b[0;34m\u001b[0m\u001b[0m\n",
            "\u001b[0;32m/usr/local/lib/python3.10/dist-packages/pandas/core/generic.py\u001b[0m in \u001b[0;36mdrop\u001b[0;34m(self, labels, axis, index, columns, level, inplace, errors)\u001b[0m\n\u001b[1;32m   4709\u001b[0m         \u001b[0;32mfor\u001b[0m \u001b[0maxis\u001b[0m\u001b[0;34m,\u001b[0m \u001b[0mlabels\u001b[0m \u001b[0;32min\u001b[0m \u001b[0maxes\u001b[0m\u001b[0;34m.\u001b[0m\u001b[0mitems\u001b[0m\u001b[0;34m(\u001b[0m\u001b[0;34m)\u001b[0m\u001b[0;34m:\u001b[0m\u001b[0;34m\u001b[0m\u001b[0;34m\u001b[0m\u001b[0m\n\u001b[1;32m   4710\u001b[0m             \u001b[0;32mif\u001b[0m \u001b[0mlabels\u001b[0m \u001b[0;32mis\u001b[0m \u001b[0;32mnot\u001b[0m \u001b[0;32mNone\u001b[0m\u001b[0;34m:\u001b[0m\u001b[0;34m\u001b[0m\u001b[0;34m\u001b[0m\u001b[0m\n\u001b[0;32m-> 4711\u001b[0;31m                 \u001b[0mobj\u001b[0m \u001b[0;34m=\u001b[0m \u001b[0mobj\u001b[0m\u001b[0;34m.\u001b[0m\u001b[0m_drop_axis\u001b[0m\u001b[0;34m(\u001b[0m\u001b[0mlabels\u001b[0m\u001b[0;34m,\u001b[0m \u001b[0maxis\u001b[0m\u001b[0;34m,\u001b[0m \u001b[0mlevel\u001b[0m\u001b[0;34m=\u001b[0m\u001b[0mlevel\u001b[0m\u001b[0;34m,\u001b[0m \u001b[0merrors\u001b[0m\u001b[0;34m=\u001b[0m\u001b[0merrors\u001b[0m\u001b[0;34m)\u001b[0m\u001b[0;34m\u001b[0m\u001b[0;34m\u001b[0m\u001b[0m\n\u001b[0m\u001b[1;32m   4712\u001b[0m \u001b[0;34m\u001b[0m\u001b[0m\n\u001b[1;32m   4713\u001b[0m         \u001b[0;32mif\u001b[0m \u001b[0minplace\u001b[0m\u001b[0;34m:\u001b[0m\u001b[0;34m\u001b[0m\u001b[0;34m\u001b[0m\u001b[0m\n",
            "\u001b[0;32m/usr/local/lib/python3.10/dist-packages/pandas/core/generic.py\u001b[0m in \u001b[0;36m_drop_axis\u001b[0;34m(self, labels, axis, level, errors, only_slice)\u001b[0m\n\u001b[1;32m   4751\u001b[0m                 \u001b[0mnew_axis\u001b[0m \u001b[0;34m=\u001b[0m \u001b[0maxis\u001b[0m\u001b[0;34m.\u001b[0m\u001b[0mdrop\u001b[0m\u001b[0;34m(\u001b[0m\u001b[0mlabels\u001b[0m\u001b[0;34m,\u001b[0m \u001b[0mlevel\u001b[0m\u001b[0;34m=\u001b[0m\u001b[0mlevel\u001b[0m\u001b[0;34m,\u001b[0m \u001b[0merrors\u001b[0m\u001b[0;34m=\u001b[0m\u001b[0merrors\u001b[0m\u001b[0;34m)\u001b[0m\u001b[0;34m\u001b[0m\u001b[0;34m\u001b[0m\u001b[0m\n\u001b[1;32m   4752\u001b[0m             \u001b[0;32melse\u001b[0m\u001b[0;34m:\u001b[0m\u001b[0;34m\u001b[0m\u001b[0;34m\u001b[0m\u001b[0m\n\u001b[0;32m-> 4753\u001b[0;31m                 \u001b[0mnew_axis\u001b[0m \u001b[0;34m=\u001b[0m \u001b[0maxis\u001b[0m\u001b[0;34m.\u001b[0m\u001b[0mdrop\u001b[0m\u001b[0;34m(\u001b[0m\u001b[0mlabels\u001b[0m\u001b[0;34m,\u001b[0m \u001b[0merrors\u001b[0m\u001b[0;34m=\u001b[0m\u001b[0merrors\u001b[0m\u001b[0;34m)\u001b[0m\u001b[0;34m\u001b[0m\u001b[0;34m\u001b[0m\u001b[0m\n\u001b[0m\u001b[1;32m   4754\u001b[0m             \u001b[0mindexer\u001b[0m \u001b[0;34m=\u001b[0m \u001b[0maxis\u001b[0m\u001b[0;34m.\u001b[0m\u001b[0mget_indexer\u001b[0m\u001b[0;34m(\u001b[0m\u001b[0mnew_axis\u001b[0m\u001b[0;34m)\u001b[0m\u001b[0;34m\u001b[0m\u001b[0;34m\u001b[0m\u001b[0m\n\u001b[1;32m   4755\u001b[0m \u001b[0;34m\u001b[0m\u001b[0m\n",
            "\u001b[0;32m/usr/local/lib/python3.10/dist-packages/pandas/core/indexes/base.py\u001b[0m in \u001b[0;36mdrop\u001b[0;34m(self, labels, errors)\u001b[0m\n\u001b[1;32m   6998\u001b[0m         \u001b[0;32mif\u001b[0m \u001b[0mmask\u001b[0m\u001b[0;34m.\u001b[0m\u001b[0many\u001b[0m\u001b[0;34m(\u001b[0m\u001b[0;34m)\u001b[0m\u001b[0;34m:\u001b[0m\u001b[0;34m\u001b[0m\u001b[0;34m\u001b[0m\u001b[0m\n\u001b[1;32m   6999\u001b[0m             \u001b[0;32mif\u001b[0m \u001b[0merrors\u001b[0m \u001b[0;34m!=\u001b[0m \u001b[0;34m\"ignore\"\u001b[0m\u001b[0;34m:\u001b[0m\u001b[0;34m\u001b[0m\u001b[0;34m\u001b[0m\u001b[0m\n\u001b[0;32m-> 7000\u001b[0;31m                 \u001b[0;32mraise\u001b[0m \u001b[0mKeyError\u001b[0m\u001b[0;34m(\u001b[0m\u001b[0;34mf\"{labels[mask].tolist()} not found in axis\"\u001b[0m\u001b[0;34m)\u001b[0m\u001b[0;34m\u001b[0m\u001b[0;34m\u001b[0m\u001b[0m\n\u001b[0m\u001b[1;32m   7001\u001b[0m             \u001b[0mindexer\u001b[0m \u001b[0;34m=\u001b[0m \u001b[0mindexer\u001b[0m\u001b[0;34m[\u001b[0m\u001b[0;34m~\u001b[0m\u001b[0mmask\u001b[0m\u001b[0;34m]\u001b[0m\u001b[0;34m\u001b[0m\u001b[0;34m\u001b[0m\u001b[0m\n\u001b[1;32m   7002\u001b[0m         \u001b[0;32mreturn\u001b[0m \u001b[0mself\u001b[0m\u001b[0;34m.\u001b[0m\u001b[0mdelete\u001b[0m\u001b[0;34m(\u001b[0m\u001b[0mindexer\u001b[0m\u001b[0;34m)\u001b[0m\u001b[0;34m\u001b[0m\u001b[0;34m\u001b[0m\u001b[0m\n",
            "\u001b[0;31mKeyError\u001b[0m: \"['Time in office'] not found in axis\""
          ]
        }
      ]
    },
    {
      "cell_type": "markdown",
      "source": [
        "## Prepare geospacial data for mapping\n",
        "Convert data into a GeoDataFrame"
      ],
      "metadata": {
        "id": "7ll_JYgn1d6A"
      }
    },
    {
      "cell_type": "markdown",
      "source": [
        "## Plot and annotate maps"
      ],
      "metadata": {
        "id": "O6_ExT6T1d8u"
      }
    },
    {
      "cell_type": "markdown",
      "source": [
        "## Save the final visualization"
      ],
      "metadata": {
        "id": "4xwKcDCo1eAI"
      }
    }
  ]
}